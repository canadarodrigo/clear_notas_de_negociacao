{
  "cells": [
    {
      "cell_type": "code",
      "execution_count": null,
      "metadata": {
        "id": "AKOa32foTjyK"
      },
      "outputs": [],
      "source": [
        "pip install tabula-py"
      ]
    },
    {
      "cell_type": "code",
      "execution_count": null,
      "metadata": {
        "id": "w8YMBNFLTsCt"
      },
      "outputs": [],
      "source": [
        "pip install jpype1"
      ]
    },
    {
      "cell_type": "code",
      "execution_count": null,
      "metadata": {
        "id": "i6pcnVNKTkvM"
      },
      "outputs": [],
      "source": [
        "import pandas as pd\n",
        "import tabula\n",
        "import re\n",
        "import os"
      ]
    },
    {
      "cell_type": "code",
      "execution_count": null,
      "metadata": {
        "id": "Org1Ek99TTcq"
      },
      "outputs": [],
      "source": [
        "note_data = []\n",
        "\n",
        "for filename in os.listdir():\n",
        "  if os.path.isfile(filename):\n",
        "    print(filename)\n",
        "    data = tabula.read_pdf(filename, multiple_tables=False, pages='all', stream=True, guess=False)\n",
        "    df = data[0]\n",
        "    n_columns = len(df.columns)\n",
        "\n",
        "    if n_columns == 5:\n",
        "\n",
        "      df.rename(columns={df.columns[0]: 'BOVESPA', df.columns[1]: 'NOTA', df.columns[2]: 'PRECO', df.columns[3]: 'DATA', df.columns[4]: 'NADA'}, inplace=True)\n",
        "\n",
        "      if isinstance(df['DATA'].iloc[1], str):\n",
        "        date = df['DATA'].iloc[1].strip()\n",
        "      elif isinstance(df['NADA'].iloc[1], str):\n",
        "        date = df['NADA'].iloc[1].strip()\n",
        "      else:\n",
        "        date = df['Unnamed: 5'].iloc[1].strip()\n",
        "\n",
        "      operations = list(df[df['BOVESPA'].str.contains(\"1-BOVESPA\",na=False)].index)\n",
        "\n",
        "      for current_row in operations:\n",
        "        #include here the steps to get the buy/sell operation\n",
        "        cell_value = df['BOVESPA'].iloc[current_row] # NOTA DE CORRETAGEM ANTIGA\n",
        "        c_vRegex = re.compile(r'(?<=\\s)[a-zA-Z]\\s*') # NOTA DE CORRETAGEM ANTIGA\n",
        "        match = c_vRegex.search(cell_value)\n",
        "        if match:\n",
        "          c_v = match.group(0).strip()\n",
        "        else:\n",
        "          cell_value = df['NOTA'].iloc[current_row] # NOTA DE CORRETAGEM NOVA\n",
        "          c_v = cell_value[0] # NOTA DE CORRETAGEM NOVA\n",
        "\n",
        "        #include here the steps to get the stock title\n",
        "        cell_value = df['NOTA'].iloc[current_row]\n",
        "        if 'FRACIONARIO' in cell_value:\n",
        "          stock_titleRegex = re.compile(r'(?<=FRACIONARIO\\s)(.*)(?=\\s\\d+)')\n",
        "        elif 'VISTA' in cell_value:\n",
        "          stock_titleRegex = re.compile(r'(?<=VISTA\\s)(.*)(?=\\s\\d+)')\n",
        "        stock_title = stock_titleRegex.search(cell_value).group(0).strip()\n",
        "\n",
        "        #include here the steps to get price\n",
        "        price = df['PRECO'].iloc[current_row].strip()\n",
        "        price_float = float(price.replace('.','').replace(',','.'))\n",
        "\n",
        "        #include here the steps to get the quantity\n",
        "        cell_value = df['NOTA'].iloc[current_row]\n",
        "        quantityRegex = re.compile(r'(?<=\\s)\\d*\\s*$')\n",
        "        match = quantityRegex.search(cell_value)\n",
        "        if match:\n",
        "          quantity = quantityRegex.search(cell_value).group(0).strip()\n",
        "        else:\n",
        "          quantity = filename\n",
        "\n",
        "        row_data = [date, c_v, stock_title, price, quantity]\n",
        "        note_data.append(row_data)\n",
        "\n",
        "    if n_columns == 6:\n",
        "\n",
        "      df.rename(columns={df.columns[0]: 'BOVESPA', df.columns[1]: 'COMPRAVENDA', df.columns[2]: 'NOTA', df.columns[3]: 'PRECO', df.columns[4]: 'DATA'}, inplace=True)\n",
        "\n",
        "      if isinstance(df['DATA'].iloc[1], str):\n",
        "        date = df['DATA'].iloc[1].strip()\n",
        "      else:\n",
        "        date = df['Unnamed: 5'].iloc[1].strip()\n",
        "\n",
        "      operations = list(df[df['BOVESPA'].str.contains(\"1-BOVESPA\",na=False)].index)\n",
        "\n",
        "      for current_row in operations:\n",
        "        #include here the steps to get the buy/sell operation\n",
        "        cell_value = df['BOVESPA'].iloc[current_row] # NOTA DE CORRETAGEM ANTIGA\n",
        "        c_vRegex = re.compile(r'(?<=\\s)[a-zA-Z]\\s*') # NOTA DE CORRETAGEM ANTIGA\n",
        "        match = c_vRegex.search(cell_value)\n",
        "        if match:\n",
        "          c_v = match.group(0).strip()\n",
        "        else:\n",
        "          cell_value = df['COMPRAVENDA'].iloc[current_row] # NOTA DE CORRETAGEM NOVA\n",
        "          c_v = cell_value[0] # NOTA DE CORRETAGEM NOVA\n",
        "\n",
        "        #include here the steps to get the stock title\n",
        "        cell_value = df['NOTA'].iloc[current_row]\n",
        "        if 'FRACIONARIO' in cell_value:\n",
        "          stock_titleRegex = re.compile(r'(?<=FRACIONARIO\\s)(.*)(?=\\s\\d+)')\n",
        "        elif 'VISTA' in cell_value:\n",
        "          stock_titleRegex = re.compile(r'(?<=VISTA\\s)(.*)(?=\\s\\d+)')\n",
        "        stock_title = stock_titleRegex.search(cell_value).group(0).strip()\n",
        "\n",
        "        #include here the steps to get price\n",
        "        price = df['PRECO'].iloc[current_row].strip()\n",
        "        price_float = float(price.replace('.','').replace(',','.'))\n",
        "\n",
        "        #include here the steps to get the quantity\n",
        "        cell_value = df['NOTA'].iloc[current_row]\n",
        "        quantityRegex = re.compile(r'(?<=\\s)\\d*\\s*$')\n",
        "        match = quantityRegex.search(cell_value)\n",
        "        if match:\n",
        "          quantity = quantityRegex.search(cell_value).group(0).strip()\n",
        "        else:\n",
        "          quantity = filename\n",
        "\n",
        "        row_data = [date, c_v, stock_title, price, quantity]\n",
        "        note_data.append(row_data)\n",
        "\n",
        "cols = ['Data', 'Compra/Venda', 'Ticker', 'Preço', 'Quantidade']\n",
        "note_df = pd.DataFrame(data=note_data, columns=cols)\n",
        "note_df.to_excel(\"extrato_notas_corretagem_todas_2023.xlsx\")\n"
      ]
    }
  ],
  "metadata": {
    "colab": {
      "provenance": []
    },
    "kernelspec": {
      "display_name": "Python 3",
      "name": "python3"
    },
    "language_info": {
      "name": "python"
    }
  },
  "nbformat": 4,
  "nbformat_minor": 0
}
